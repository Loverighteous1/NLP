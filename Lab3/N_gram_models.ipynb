{
  "cells": [
    {
      "cell_type": "markdown",
      "metadata": {
        "id": "thobkiOZ76P9"
      },
      "source": [
        "\n",
        "<h1 style=\"font-family:verdana;font-size:300%;text-align:center;background-color:#f2f2f2;color:#0d0d0d\">AMMI_2024_NLP - Week 1</h1>\n",
        "\n",
        "<h1 style=\"font-family:verdana;font-size:180%;text-align:Center;color:#993333\"> Lab 3: N-gram models </h1>\n",
        "\n",
        "\n",
        "Before we start, please change the name of the notebook to the following format : **Firstname_LASTNAME_Lab3__N_gram_models.ipynb**\n",
        "\n",
        "\n",
        "In some cells and files you will see code blocks that look like this:\n",
        "\n",
        "```python\n",
        "##############################################################################\n",
        "#                    TODO: Write the equation for a line                     #\n",
        "##############################################################################\n",
        "pass\n",
        "##############################################################################\n",
        "#                              END OF YOUR CODE                              #\n",
        "##############################################################################\n",
        "```\n",
        "\n",
        "You should replace the `pass` statement with your own code and leave the blocks intact, like this:\n",
        "\n",
        "```python\n",
        "##############################################################################\n",
        "#                    TODO: Write the equation for a line                     #\n",
        "##############################################################################\n",
        "y = m * x + b\n",
        "##############################################################################\n",
        "#                              END OF YOUR CODE                              #\n",
        "##############################################################################\n",
        "```"
      ]
    },
    {
      "cell_type": "code",
      "source": [
        "from google.colab import drive\n",
        "drive.mount(\"drive\")"
      ],
      "metadata": {
        "colab": {
          "base_uri": "https://localhost:8080/"
        },
        "id": "NywuM_YBXKOq",
        "outputId": "58a45f41-62c5-43d7-d0ed-aa4eb05682f2"
      },
      "execution_count": null,
      "outputs": [
        {
          "output_type": "stream",
          "name": "stdout",
          "text": [
            "Mounted at drive\n"
          ]
        }
      ]
    },
    {
      "cell_type": "code",
      "execution_count": null,
      "metadata": {
        "id": "AO2Q6hrQ76QC"
      },
      "outputs": [],
      "source": [
        "import io, sys, math, re\n",
        "from collections import defaultdict\n",
        "import numpy as np"
      ]
    },
    {
      "cell_type": "code",
      "execution_count": null,
      "metadata": {
        "id": "wG9pqSoV76QD"
      },
      "outputs": [],
      "source": [
        "# data_loader\n",
        "def load_data(filename):\n",
        "    '''\n",
        "    parameters:\n",
        "    filename (string): datafile\n",
        "\n",
        "    Returns:\n",
        "    data (list of lists): each list is a sentence of the text\n",
        "    vocab (dictionary): {word: no of times it appears in the text}\n",
        "    '''\n",
        "    fin = io.open(filename, 'r', encoding='utf-8')\n",
        "    data = []\n",
        "    vocab = defaultdict(lambda:0)\n",
        "    for line in fin:\n",
        "        sentence = line.split()\n",
        "        data.append(sentence)\n",
        "        for word in sentence:\n",
        "            vocab[word] += 1\n",
        "    return data, vocab"
      ]
    },
    {
      "cell_type": "code",
      "source": [
        "ls"
      ],
      "metadata": {
        "colab": {
          "base_uri": "https://localhost:8080/"
        },
        "id": "i0cOp1cEyqQp",
        "outputId": "998301dc-4ef9-4550-a1cc-7d83b8376b6c"
      },
      "execution_count": null,
      "outputs": [
        {
          "output_type": "stream",
          "name": "stdout",
          "text": [
            "\u001b[0m\u001b[01;34mdrive\u001b[0m/  \u001b[01;34msample_data\u001b[0m/\n"
          ]
        }
      ]
    },
    {
      "cell_type": "code",
      "source": [
        "cd /content/drive/MyDrive/Week1/Lab3"
      ],
      "metadata": {
        "colab": {
          "base_uri": "https://localhost:8080/"
        },
        "id": "DuzbwYnsyxNA",
        "outputId": "10fda495-5206-4818-f644-b99570c1564a"
      },
      "execution_count": null,
      "outputs": [
        {
          "output_type": "stream",
          "name": "stdout",
          "text": [
            "/content/drive/MyDrive/Week1/Lab3\n"
          ]
        }
      ]
    },
    {
      "cell_type": "code",
      "source": [
        "ls"
      ],
      "metadata": {
        "colab": {
          "base_uri": "https://localhost:8080/"
        },
        "id": "AQHLcwPVyzvf",
        "outputId": "4708719f-fc02-4b57-9b0f-d9a47d102fc9"
      },
      "execution_count": null,
      "outputs": [
        {
          "output_type": "stream",
          "name": "stdout",
          "text": [
            "Lab3__N_gram_models.ipynb  train1.txt  train2.txt  valid1.txt  valid2.txt\n"
          ]
        }
      ]
    },
    {
      "cell_type": "code",
      "execution_count": null,
      "metadata": {
        "id": "amQ02wsD76QE",
        "colab": {
          "base_uri": "https://localhost:8080/"
        },
        "outputId": "86bd4e03-4063-4ac2-ef91-01c959179478"
      },
      "outputs": [
        {
          "output_type": "stream",
          "name": "stdout",
          "text": [
            "load training set..\n",
            "\n",
            "\n",
            "['<s>', 'my', 'fathers', \"don't\", 'speak', 'dutch.', '</s>']\n",
            "\n",
            "\n",
            "how : 107\n",
            "load validation set\n"
          ]
        }
      ],
      "source": [
        "\n",
        "print(\"load training set..\")\n",
        "print(\"\\n\")\n",
        "train_data, vocab = load_data(\"train1.txt\")\n",
        "print(train_data[0])\n",
        "print(\"\\n\")\n",
        "print(\"how :\",vocab['how'])\n",
        "print(\"load validation set\")\n",
        "valid_data, _ = load_data(\"valid1.txt\")\n"
      ]
    },
    {
      "cell_type": "code",
      "source": [
        "valid_data[0]"
      ],
      "metadata": {
        "colab": {
          "base_uri": "https://localhost:8080/"
        },
        "id": "PQyIAYsNsvm9",
        "outputId": "e2e640c3-1acb-48ac-a969-ce468c2334e7"
      },
      "execution_count": null,
      "outputs": [
        {
          "output_type": "execute_result",
          "data": {
            "text/plain": [
              "['<s>',\n",
              " 'we',\n",
              " 'agonized',\n",
              " 'over',\n",
              " 'the',\n",
              " 'decision',\n",
              " 'to',\n",
              " 'do',\n",
              " 'that.',\n",
              " '</s>']"
            ]
          },
          "metadata": {},
          "execution_count": 13
        }
      ]
    },
    {
      "cell_type": "code",
      "source": [
        "li = train_data[0]\n",
        "#print(li)\n",
        "for w in li:\n",
        " # print(w)\n",
        "  if w in vocab:\n",
        "    print(w, \":\",vocab[w])"
      ],
      "metadata": {
        "colab": {
          "base_uri": "https://localhost:8080/"
        },
        "id": "AXggoSTk0h6d",
        "outputId": "8a6fcdc2-5b6d-4277-eb39-7788d9971820"
      },
      "execution_count": null,
      "outputs": [
        {
          "output_type": "stream",
          "name": "stdout",
          "text": [
            "<s> : 5561\n",
            "my : 203\n",
            "fathers : 1\n",
            "don't : 199\n",
            "speak : 12\n",
            "dutch. : 1\n",
            "</s> : 5561\n"
          ]
        }
      ]
    },
    {
      "cell_type": "code",
      "source": [
        "li = valid_data[0]\n",
        "#print(li)\n",
        "for w in li:\n",
        " # print(w)\n",
        "  if w in vocab:\n",
        "    print(w, \":\",vocab[w])"
      ],
      "metadata": {
        "colab": {
          "base_uri": "https://localhost:8080/"
        },
        "id": "asICyNE_8iRG",
        "outputId": "d7953571-05a9-4471-b299-9cf7ce30bcc4"
      },
      "execution_count": 108,
      "outputs": [
        {
          "output_type": "stream",
          "name": "stdout",
          "text": [
            "<s> : 180000\n",
            "we : 9185\n",
            "<unk> : 81991\n",
            "over : 1714\n",
            "the : 78598\n",
            "decision : 173\n",
            "to : 48065\n",
            "do : 6413\n",
            "</s> : 180000\n"
          ]
        }
      ]
    },
    {
      "cell_type": "code",
      "execution_count": null,
      "metadata": {
        "id": "6kfh1SAS76QE"
      },
      "outputs": [],
      "source": [
        "def remove_rare_words(data, vocab, mincount = 1):\n",
        "    '''\n",
        "    Parameters:\n",
        "    data (list of lists): each list is a sentence of the text\n",
        "    vocab (dictionary): {word: no of times it appears in the text}\n",
        "    mincount(int): the minimum count\n",
        "\n",
        "    Returns:\n",
        "    data_with_unk(list of lists): data after replacing rare words with <unk> token\n",
        "    '''\n",
        "    # replace words in data that are not in the vocab\n",
        "    # or have a count that is below mincount\n",
        "    data_with_unk = []\n",
        "    ##########################################################################\n",
        "    #                      TODO: Implement this function                     #\n",
        "    ##########################################################################\n",
        "    # Replace \"pass\" statement with your code\n",
        "    for sentence in data:\n",
        "      sentence_with_unk = []\n",
        "      for word in sentence:\n",
        "        if word in vocab and vocab[word] > mincount:\n",
        "          sentence_with_unk.append(word)\n",
        "        else:\n",
        "          sentence_with_unk.append(\"<unk>\")\n",
        "      data_with_unk.append(sentence_with_unk)\n",
        "    return data_with_unk\n",
        "    ##########################################################################\n",
        "    #                            END OF YOUR CODE                            #\n",
        "    ##########################################################################"
      ]
    },
    {
      "cell_type": "code",
      "source": [
        "print(\"remove rare words\")\n",
        "\n",
        "train_data = remove_rare_words(train_data, vocab, mincount = 2)\n",
        "valid_data = remove_rare_words(valid_data, vocab, mincount = 1)\n",
        "#train_data\n",
        "print(train_data[0])"
      ],
      "metadata": {
        "colab": {
          "base_uri": "https://localhost:8080/"
        },
        "id": "HCocfxgEzFFi",
        "outputId": "2915a5be-285a-484d-9448-909392bbab30"
      },
      "execution_count": null,
      "outputs": [
        {
          "output_type": "stream",
          "name": "stdout",
          "text": [
            "remove rare words\n",
            "['<s>', 'my', '<unk>', \"don't\", 'speak', '<unk>', '</s>']\n"
          ]
        }
      ]
    },
    {
      "cell_type": "code",
      "source": [
        "print(train_data[1])"
      ],
      "metadata": {
        "colab": {
          "base_uri": "https://localhost:8080/"
        },
        "id": "TTURppBu8Bke",
        "outputId": "bc52ad15-2351-43c3-c8ff-230fd6ef6ad9"
      },
      "execution_count": null,
      "outputs": [
        {
          "output_type": "stream",
          "name": "stdout",
          "text": [
            "['<s>', 'tomorrow', 'is', 'the', 'election.', '</s>']\n"
          ]
        }
      ]
    },
    {
      "cell_type": "code",
      "source": [
        "print(valid_data[0])"
      ],
      "metadata": {
        "colab": {
          "base_uri": "https://localhost:8080/"
        },
        "id": "07vx1tKs8Nwc",
        "outputId": "e2fbd5f4-7f29-4066-d37b-d8c433350a6e"
      },
      "execution_count": null,
      "outputs": [
        {
          "output_type": "stream",
          "name": "stdout",
          "text": [
            "['<s>', 'we', '<unk>', 'over', 'the', 'decision', 'to', 'do', 'that.', '</s>']\n"
          ]
        }
      ]
    },
    {
      "cell_type": "code",
      "source": [
        "print(tuple(valid_data[0])[0])"
      ],
      "metadata": {
        "colab": {
          "base_uri": "https://localhost:8080/"
        },
        "id": "T1ic0DacJcOD",
        "outputId": "d69d2a22-b2df-4d6e-8d45-5d483c6a7d48"
      },
      "execution_count": null,
      "outputs": [
        {
          "output_type": "stream",
          "name": "stdout",
          "text": [
            "<s>\n"
          ]
        }
      ]
    },
    {
      "cell_type": "code",
      "execution_count": 109,
      "metadata": {
        "id": "pNXHA3zS76QF"
      },
      "outputs": [],
      "source": [
        "def build_ngram(data, n):\n",
        "  '''\n",
        "  Parameters:\n",
        "  data (list of lists): each list is a sentence of the text\n",
        "  n (int): size of the n-gram\n",
        "\n",
        "  Returns:\n",
        "  prob (dictionary of dictionary)\n",
        "  {\n",
        "  context: {word:probability of this word given context}\n",
        "  }\n",
        "  '''\n",
        "  total_number_words = 0\n",
        "  counts = defaultdict(lambda: defaultdict(lambda: 0.0))\n",
        "  def _build_ngram(data,n):\n",
        "    counts = defaultdict(lambda: defaultdict(lambda: 0.0))\n",
        "    for sentence in data:\n",
        "      sentence = tuple(sentence)\n",
        "      ##########################################################################\n",
        "      #                      TODO: Implement this function                     #\n",
        "      # dict can be indexed by tuples\n",
        "      # store in the same dict all the ngrams\n",
        "      # by using the context as a key and the word as a value\n",
        "      ##########################################################################\n",
        "      # Replace \"pass\" statement with your code\n",
        "      for i in range(len(sentence)-n+1):\n",
        "        context = sentence[i:i+n-1]\n",
        "        next_word = sentence[i+n-1]\n",
        "        # Check if the context is already in the counts dictionary\n",
        "        if context in counts:\n",
        "          # If the context exists, check if the word is already in the inner dictionary for this context\n",
        "          if next_word in counts[context]:\n",
        "            # If the word exists, increment its count by 1.0\n",
        "            counts[context][next_word] = counts[context][next_word] + 1.0\n",
        "          else:\n",
        "            # If the word does not exist, initialize its count to 1.0\n",
        "            counts[context][next_word] = 1.0\n",
        "        else:\n",
        "          # If the context does not exist, initialize the inner dictionary with the word count set to 1.0\n",
        "          counts[context] = defaultdict(lambda: 0.0)\n",
        "          counts[context][next_word] = 1.0\n",
        "    return counts\n",
        "  #\n",
        "  ##########################################################################\n",
        "  #                            END OF YOUR CODE                            #\n",
        "  ##########################################################################\n",
        "\n",
        "  # Build the probabilities from the counts\n",
        "  # Be careful with how you normalize!\n",
        "  prob = defaultdict(lambda: defaultdict(lambda: 0.0))\n",
        "  counts = _build_ngram(data,n)\n",
        "  for context in counts.keys():\n",
        "    # p(w | context) = count(context, w)/ count(context)\n",
        "    ##########################################################################\n",
        "    #                      TODO: Implement this function                     #\n",
        "    ##########################################################################\n",
        "    # Replace \"pass\" statement with your code\n",
        "    # Calculate the total number of words that followed this context\n",
        "    #in the whole dataset after spliting sentences in n-grams\n",
        "    for w in counts[context].keys():\n",
        "      total_number_words += counts[context][w]\n",
        "\n",
        "      # Calculate the probability for each word given the associated context\n",
        "      for w in counts[context].keys():\n",
        "        prob[context][w] = counts[context][w]/total_number_words # (here take the normalisation process)\n",
        "        #print(prob[context][w])\n",
        "    ##########################################################################\n",
        "    #                            END OF YOUR CODE                            #\n",
        "    ##########################################################################\n",
        "\n",
        "  return prob\n",
        "  # Initialize prob as a dictionary\n",
        "  # Build n-gram probabilities for each value of i (1 to n)\n",
        "  # Store the probabilities for n-grams of size i\n",
        "  # Return the dictionary of probabilities for different n-gram sizes\n",
        "  prob = defaultdict(lambda: defaultdict(lambda: 0.0))  # Initialize prob\n",
        "  for i in range(1, n + 1):\n",
        "      prob_ex = _build_ngram(data, i)\n",
        "      for context in prob_ex.keys():\n",
        "          for word in prob_ex[context].keys():\n",
        "              prob[context][word] = prob_ex[context][word]\n",
        "\n",
        "  return prob\n"
      ]
    },
    {
      "cell_type": "code",
      "execution_count": 110,
      "metadata": {
        "id": "WMxK-Qki76QG",
        "colab": {
          "base_uri": "https://localhost:8080/"
        },
        "outputId": "d94f819b-812e-48af-f02a-ade295aa19f7",
        "collapsed": true
      },
      "outputs": [
        {
          "output_type": "stream",
          "name": "stdout",
          "text": [
            "build ngram model with n =  10\n"
          ]
        }
      ],
      "source": [
        "# RUN TO BUILD NGRAM MODEL\n",
        "n = 10\n",
        "print(\"build ngram model with n = \", n)\n",
        "model = build_ngram(train_data, n)\n"
      ]
    },
    {
      "cell_type": "markdown",
      "metadata": {
        "id": "KbCzRXJk76QG"
      },
      "source": [
        "Here, implement a recursive function over shorter and shorter context to compute a \"stupid backoff model\". An interpolation model can also be implemented this way."
      ]
    },
    {
      "cell_type": "code",
      "execution_count": 158,
      "metadata": {
        "id": "AbOs6Duc76QG"
      },
      "outputs": [],
      "source": [
        "def get_prob(model, context, w):\n",
        "    '''\n",
        "    Parameters:\n",
        "    model (dictionary of dictionary)\n",
        "    {\n",
        "        context: {word:probability of this word given context}\n",
        "    }\n",
        "    context (list of strings): a sentence\n",
        "    w(string): the word we need to find it's probability given the context\n",
        "\n",
        "    Retunrs:\n",
        "    prob(float): probability of this word given the context\n",
        "    '''\n",
        "\n",
        "    # code a recursive function over\n",
        "    # smaller and smaller context\n",
        "    # to compute the backoff model\n",
        "    ##########################################################################\n",
        "    #                      TODO: Implement this function                     #\n",
        "    ##########################################################################\n",
        "    # Replace \"pass\" statement with your code\n",
        "    alpha=0.4\n",
        "    # Convert context to a tuple\n",
        "    context_tuple = tuple(context)\n",
        "    prob = 0\n",
        "    # Check if the full context is in the model\n",
        "    for context_tuple in model:\n",
        "      if w in model[context_tuple]:\n",
        "          prob += (sum(model[context_tuple][w])/len(model[context_tuple]))\n",
        "      else:\n",
        "          prob += alpha * get_prob(model, context[1:], w)\n",
        "    # If context is not found, backoff with a shorter context\n",
        "      if len(context) > 1:\n",
        "          prob += alpha * get_prob(model, context[1:], w)\n",
        "      else:\n",
        "          # If context is reduced to empty, return a small probability\n",
        "          return prob\n",
        "    return prob\n",
        "    ##########################################################################\n",
        "    #                            END OF YOUR CODE                            #\n",
        "    ##########################################################################"
      ]
    },
    {
      "cell_type": "code",
      "execution_count": 164,
      "metadata": {
        "id": "z5waVP3C76QH"
      },
      "outputs": [],
      "source": [
        "\n",
        "def perplexity(model, data, n):\n",
        "    '''\n",
        "    Parameters:\n",
        "    model (dictionary of dictionary)\n",
        "    {\n",
        "        context: {word:probability of this word given context}\n",
        "    }\n",
        "    data (list of lists): each list is a sentence of the text\n",
        "    n(int): size of the n-gram\n",
        "\n",
        "    Retunrs:\n",
        "    perp(float): the perplexity of the model\n",
        "    '''\n",
        "    ##########################################################################\n",
        "    #                      TODO: Implement this function                     #\n",
        "    ##########################################################################\n",
        "    # Replace \"pass\" statement with your code\n",
        "\n",
        "    # Initialize variables for perplexity calculation\n",
        "    log_sum = 0\n",
        "    T = 0\n",
        "    for sentence in data:\n",
        "    # Calculate perplexity\n",
        "      for i in range(len(sentence)-n+1):\n",
        "          T += 1\n",
        "          # Extract the n-gram context\n",
        "          context = tuple(sentence[i:i+n-1])\n",
        "\n",
        "          # Current token\n",
        "          word = sentence[i+n-1]\n",
        "\n",
        "          # Get probability\n",
        "          if context in model and word in model[context]:\n",
        "              prob = get_prob(model, context, word)\n",
        "          else:\n",
        "              prob = 1 / len(model)  # this instruction will use a small uniform probability,\n",
        "                                      #if context or word is unseen\n",
        "          # Calculate log probability, handling potential zero probabilities\n",
        "          if prob > 0:  # Only calculate log if probability is positive\n",
        "            log_sum -= math.log(prob)\n",
        "\n",
        "\n",
        "    # Calculate perplexity\n",
        "    perp = math.exp(log_sum / T)\n",
        "\n",
        "    return perp\n",
        "    ##########################################################################\n",
        "    #                            END OF YOUR CODE                            #\n",
        "    ##########################################################################"
      ]
    },
    {
      "cell_type": "code",
      "source": [
        "\n",
        "print(\"The perplexity is\", perplexity(model, valid_data, n=n))"
      ],
      "metadata": {
        "colab": {
          "base_uri": "https://localhost:8080/"
        },
        "id": "WcGZ_3BqH5yl",
        "outputId": "44c5b881-f539-463b-ed05-5bfbf79927f7"
      },
      "execution_count": 165,
      "outputs": [
        {
          "output_type": "stream",
          "name": "stdout",
          "text": [
            "The perplexity is 18204.999999999018\n"
          ]
        }
      ]
    },
    {
      "cell_type": "code",
      "execution_count": 118,
      "metadata": {
        "id": "AYBc5Aam76QH",
        "colab": {
          "base_uri": "https://localhost:8080/"
        },
        "outputId": "b5a71da9-fd72-44d7-ae48-dc1afdd6c4bf"
      },
      "outputs": [
        {
          "output_type": "stream",
          "name": "stdout",
          "text": [
            "The perplexity is 1.171420319258896\n"
          ]
        }
      ],
      "source": [
        "# COMPUTE PERPLEXITY ON VALIDATION SET\n",
        "\n",
        "print(\"The perplexity is\", perplexity(model, valid_data, n=n))"
      ]
    },
    {
      "cell_type": "code",
      "execution_count": 125,
      "metadata": {
        "id": "idrxoRlc76QH"
      },
      "outputs": [],
      "source": [
        "def get_proba_distrib(model, context):\n",
        "    ## need to get the the words after the context and their probability of appearance\n",
        "    ## after this context\n",
        "    '''\n",
        "    Parameters:\n",
        "    model (dictionary of dictionary)\n",
        "    {\n",
        "        context: {word:probability of this word given context}\n",
        "    }\n",
        "    context (list of strings): the sentence we need to find the words after it and\n",
        "    thier probabilites\n",
        "\n",
        "    Retunrs:\n",
        "    words_and_probs(dic): {word: probability of word given context}\n",
        "\n",
        "    '''\n",
        "    # code a recursive function over context\n",
        "    # to find the longest available ngram\n",
        "    ##########################################################################\n",
        "    #                      TODO: Implement this function                     #\n",
        "    ##########################################################################\n",
        "    # Replace \"pass\" statement with your code\n",
        "    # Convert context to tuple to use as keys in the model\n",
        "    current_context = tuple(context)\n",
        "\n",
        "    # Initialize dictionary to store words and their probabilities\n",
        "    words_and_probs = {}\n",
        "\n",
        "    # Check if current_context exists in the model\n",
        "    if current_context in model:\n",
        "        # Iterate over words and their probabilities in the current context\n",
        "        for word, prob in model[current_context].items():\n",
        "            # Add word and its probability to the result dictionary\n",
        "            words_and_probs[word] = prob\n",
        "\n",
        "            # Recursively call get_proba_distrib to get probabilities for subsequent words\n",
        "            # Concatenate current word to the context for the next recursion\n",
        "            next_context = context + [word]\n",
        "            next_words_probs = get_proba_distrib(model, next_context)\n",
        "\n",
        "            # Update words_and_probs with probabilities from subsequent context\n",
        "            words_and_probs.update(next_words_probs)\n",
        "\n",
        "    return words_and_probs\n",
        "\n",
        "    ##########################################################################\n",
        "    #                            END OF YOUR CODE                            #\n",
        "    ##########################################################################"
      ]
    },
    {
      "cell_type": "code",
      "source": [
        "import random"
      ],
      "metadata": {
        "id": "CvQX_0T9tYYB"
      },
      "execution_count": 126,
      "outputs": []
    },
    {
      "cell_type": "code",
      "execution_count": 127,
      "metadata": {
        "id": "i_eGYoZB76QI"
      },
      "outputs": [],
      "source": [
        "def generate(model):\n",
        "    '''\n",
        "    Parameters:\n",
        "    model (dictionary of dictionary)\n",
        "    {\n",
        "        context: {word:probability of this word given context}\n",
        "    }\n",
        "\n",
        "    Retunrs:\n",
        "    sentence (list of strings): a sentence sampled according to the language model.\n",
        "\n",
        "\n",
        "    '''\n",
        "    # generate a sentence. A sentence starts with a <s> and ends with a </s>\n",
        "    # Possiblly a use function is:\n",
        "    # np.random.choice(x, 1, p = y)\n",
        "\n",
        "    # where x is a list of things to sample from\n",
        "    # and y is a list of probability (of the same length as x)\n",
        "    sentence = [\"<s>\"]\n",
        "    n = 10\n",
        "    #print (model[(\"<s>\")])\n",
        "    #print (len(model[tuple(sentence)].values()))\n",
        "    while sentence[-1] != \"</s>\" and len(sentence)< n:\n",
        "        ##########################################################################\n",
        "        #                      TODO: Implement this function                     #\n",
        "        ##########################################################################\n",
        "        # Replace \"pass\" statement with your code\n",
        "        current_context = tuple(sentence[-1:])\n",
        "\n",
        "        if current_context in model:\n",
        "            # Initialize variables to store words and their probabilities\n",
        "            words = []\n",
        "            probs = []\n",
        "\n",
        "            # Populate words and probs lists from model[current_context]\n",
        "            for word, prob in model[current_context].items():\n",
        "                words.append(word)\n",
        "                probs.append(prob)\n",
        "\n",
        "            # Calculate cumulative probabilities\n",
        "            cumulative_probs = []\n",
        "            cumulative_prob = 0.0\n",
        "            for prob in probs:\n",
        "                cumulative_prob += prob\n",
        "                cumulative_probs.append(cumulative_prob)\n",
        "\n",
        "            # Randomly choose a number between 0 and 1\n",
        "            random_num = random.uniform(0, 1)\n",
        "\n",
        "            # Choose the next word based on cumulative probabilities\n",
        "            for idx, cum_prob in enumerate(cumulative_probs):\n",
        "                if random_num <= cum_prob:\n",
        "                    next_word = words[idx]\n",
        "                    break\n",
        "\n",
        "            # Append the chosen word to the sentence\n",
        "            sentence.append(next_word)\n",
        "        else:\n",
        "            break\n",
        "\n",
        "    # Ensure the sentence ends with \"</s>\"\n",
        "    if sentence[-1] != \"</s>\":\n",
        "        sentence.append(\"</s>\")\n",
        "\n",
        "    return sentence\n",
        "        ##########################################################################\n",
        "        #                            END OF YOUR CODE                            #\n",
        "        ##########################################################################"
      ]
    },
    {
      "cell_type": "code",
      "execution_count": 128,
      "metadata": {
        "id": "mWqzUXjw76QI",
        "colab": {
          "base_uri": "https://localhost:8080/"
        },
        "outputId": "956167b3-54eb-4749-a098-ba3d083f4148"
      },
      "outputs": [
        {
          "output_type": "stream",
          "name": "stdout",
          "text": [
            "Generated sentence:  ['<s>', '</s>']\n"
          ]
        }
      ],
      "source": [
        "# GENERATE A SENTENCE FROM THE MODEL\n",
        "\n",
        "print(\"Generated sentence: \",generate(model))"
      ]
    },
    {
      "cell_type": "markdown",
      "metadata": {
        "id": "XCs2pG6P76QJ"
      },
      "source": [
        "Once you are done implementing the model, evaluation and generation code, you can try changing the value of `n`, and play with a larger training set (`train2.txt` and `valid2.txt`). You can also try to implement an interpolation model."
      ]
    },
    {
      "cell_type": "code",
      "execution_count": null,
      "metadata": {
        "id": "INh4pNmm76QJ",
        "colab": {
          "base_uri": "https://localhost:8080/"
        },
        "outputId": "61397b6b-84ce-4caf-93b4-d2e219b4e07f"
      },
      "outputs": [
        {
          "output_type": "stream",
          "name": "stdout",
          "text": [
            "load training set 2..\n",
            "\n",
            "\n",
            "['<s>', 'i', 'liked', 'your', 'idea', 'and', 'adopted', 'it', '.', '</s>']\n",
            "\n",
            "\n",
            "how : 3195\n",
            "load validation set 2\n"
          ]
        }
      ],
      "source": [
        "print(\"load training set 2..\")\n",
        "print(\"\\n\")\n",
        "train_data2, vocab = load_data(\"train2.txt\")\n",
        "print(train_data2[0])\n",
        "print(\"\\n\")\n",
        "print(\"how :\",vocab['how'])\n",
        "print(\"load validation set 2\")\n",
        "valid_data2, _ = load_data(\"valid2.txt\")\n"
      ]
    },
    {
      "cell_type": "code",
      "source": [
        "n = 3"
      ],
      "metadata": {
        "id": "xyEO8rKZB6SR"
      },
      "execution_count": 166,
      "outputs": []
    },
    {
      "cell_type": "code",
      "source": [
        "model = build_ngram(train_data2, n)"
      ],
      "metadata": {
        "id": "tq71nPJjBZRR"
      },
      "execution_count": 167,
      "outputs": []
    },
    {
      "cell_type": "code",
      "source": [
        "perplexity(model,valid_data2, n)"
      ],
      "metadata": {
        "colab": {
          "base_uri": "https://localhost:8080/"
        },
        "id": "nHcKA9nxBpXk",
        "outputId": "ebd44ab9-f17a-406e-affb-0db0df5766d7"
      },
      "execution_count": null,
      "outputs": [
        {
          "output_type": "execute_result",
          "data": {
            "text/plain": [
              "203.12509359556086"
            ]
          },
          "metadata": {},
          "execution_count": 318
        }
      ]
    },
    {
      "cell_type": "code",
      "source": [
        "generate(model)"
      ],
      "metadata": {
        "colab": {
          "base_uri": "https://localhost:8080/"
        },
        "id": "g7vh3LzcBvHj",
        "outputId": "6be8fd9f-711e-484b-b7ec-af11e6bb5769"
      },
      "execution_count": null,
      "outputs": [
        {
          "output_type": "execute_result",
          "data": {
            "text/plain": [
              "['<s>', 'is', 'a', 'yen', 'over', 'matter', 'much', '</s>']"
            ]
          },
          "metadata": {},
          "execution_count": 331
        }
      ]
    }
  ],
  "metadata": {
    "kernelspec": {
      "display_name": "Python 3",
      "language": "python",
      "name": "python3"
    },
    "language_info": {
      "codemirror_mode": {
        "name": "ipython",
        "version": 3
      },
      "file_extension": ".py",
      "mimetype": "text/x-python",
      "name": "python",
      "nbconvert_exporter": "python",
      "pygments_lexer": "ipython3",
      "version": "3.6.2+"
    },
    "colab": {
      "provenance": []
    }
  },
  "nbformat": 4,
  "nbformat_minor": 0
}